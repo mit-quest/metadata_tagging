{
  "nbformat": 4,
  "nbformat_minor": 0,
  "metadata": {
    "colab": {
      "name": "libraries_demo.ipynb",
      "provenance": [],
      "collapsed_sections": [],
      "toc_visible": true,
      "include_colab_link": true
    },
    "kernelspec": {
      "name": "python3",
      "display_name": "Python 3"
    }
  },
  "cells": [
    {
      "cell_type": "markdown",
      "metadata": {
        "id": "view-in-github",
        "colab_type": "text"
      },
      "source": [
        "<a href=\"https://colab.research.google.com/github/mit-quest/metadata_tagging/blob/master/libraries_demo.ipynb\" target=\"_parent\"><img src=\"https://colab.research.google.com/assets/colab-badge.svg\" alt=\"Open In Colab\"/></a>"
      ]
    },
    {
      "cell_type": "markdown",
      "metadata": {
        "id": "E0bPrc37qRDz",
        "colab_type": "text"
      },
      "source": [
        "# Category Summaries"
      ]
    },
    {
      "cell_type": "markdown",
      "metadata": {
        "id": "AJo2_OT4rUaA",
        "colab_type": "text"
      },
      "source": [
        "**Speeches**  <br>\n",
        "The Speeches category contains all archival items that contain the content of speeches. This category includes written drafts and written version of speeches by historical figures as well as transcripts of speeches given to public or designated audiences.*italicized text*"
      ]
    },
    {
      "cell_type": "markdown",
      "metadata": {
        "id": "3Wr_Yp73rt-d",
        "colab_type": "text"
      },
      "source": [
        "**Correspondence** <br>\n",
        "The correspondence category contains all archival items which contain correspondence from historical figures. This category includes all types of correspondence, including personal, business, and institutional."
      ]
    },
    {
      "cell_type": "markdown",
      "metadata": {
        "id": "HdaSZuuzseHH",
        "colab_type": "text"
      },
      "source": [
        "**Drawing** <br>\n",
        "The Drawing category contains all illustrated art not included in other specified categories (ie. Advertisements). This category holds drawings of all types including newspaper cartoons, illustrations by artists, and political cartoons.\n"
      ]
    },
    {
      "cell_type": "markdown",
      "metadata": {
        "id": "e0vxiXrTshp7",
        "colab_type": "text"
      },
      "source": [
        "**Photograph** <br>\n",
        "The Photographs category contains all photographic materials in the archival collection, including historical photography and photographs by artists.\n"
      ]
    },
    {
      "cell_type": "markdown",
      "metadata": {
        "id": "DWvveqHksk0k",
        "colab_type": "text"
      },
      "source": [
        "**Advertisement** <br>\n",
        "The Advertisements category contains all image and written materials used for advertising purposes. This includes items such as advertisement art and posters/flyers, for business or political purposes.\n"
      ]
    },
    {
      "cell_type": "markdown",
      "metadata": {
        "id": "mbB-HijHsnJ2",
        "colab_type": "text"
      },
      "source": [
        "**Book**  <br>\n",
        "The Books category contains all book-related and printed materials, excluding those in other categories. Such materials include pages from books, printed drafts or manuscripts, and full versions of selected printed materials. This category included printed materials with multiple pages.\n"
      ]
    },
    {
      "cell_type": "markdown",
      "metadata": {
        "id": "yw_Z5y8bsp_z",
        "colab_type": "text"
      },
      "source": [
        "**Biography** <br>\n",
        "The Biographies category contains all Biography materials. These include written autobiographies, biographical manuscripts, books, and other biographical materials. Biographies span from one single page to multiple pages and books/manuscripts.\n"
      ]
    },
    {
      "cell_type": "markdown",
      "metadata": {
        "id": "TkFoYgpZtcmW",
        "colab_type": "text"
      },
      "source": [
        "# Model Analysis on Library of Congress Data"
      ]
    },
    {
      "cell_type": "markdown",
      "metadata": {
        "id": "uRg9oKI4tllr",
        "colab_type": "text"
      },
      "source": [
        "Total images: 59,945 <br>\n",
        "Test items: 6,658 <br>\n",
        "Precision (% of true positives): 95.82% <br>\n",
        "Recall (%  of true negatives): 94.74% <br>\n",
        "**Confusion Matrix** <br>\n",
        "<center>\n",
        "<img src=\"https://drive.google.com/uc?id=1sjt7ZEuxkVEOt_NMSOR56cqqfvFpmHlC\" width=\"700\">\n",
        "</center>"
      ]
    },
    {
      "cell_type": "markdown",
      "metadata": {
        "id": "SnvfpJaCLrMV",
        "colab_type": "text"
      },
      "source": [
        "# Setup"
      ]
    },
    {
      "cell_type": "code",
      "metadata": {
        "id": "WuybifVAJH6t",
        "colab_type": "code",
        "cellView": "both",
        "outputId": "3da6ca82-3648-4916-dcec-baba6ed74201",
        "colab": {
          "base_uri": "https://localhost:8080/",
          "height": 34
        }
      },
      "source": [
        "#@title Authenticate\n",
        "from google.colab import auth\n",
        "auth.authenticate_user()\n",
        "print('Authenticated')"
      ],
      "execution_count": 1,
      "outputs": [
        {
          "output_type": "stream",
          "text": [
            "Authenticated\n"
          ],
          "name": "stdout"
        }
      ]
    },
    {
      "cell_type": "code",
      "metadata": {
        "id": "pPnY2YErfINA",
        "colab_type": "code",
        "outputId": "c4dc9ef6-01d0-465b-c408-04d8f77316b4",
        "colab": {
          "base_uri": "https://localhost:8080/",
          "height": 937
        }
      },
      "source": [
        "!pip install google-cloud-vision\n",
        "!pip install google-cloud-automl"
      ],
      "execution_count": 2,
      "outputs": [
        {
          "output_type": "stream",
          "text": [
            "Collecting google-cloud-vision\n",
            "\u001b[?25l  Downloading https://files.pythonhosted.org/packages/eb/23/6d5a728333ce568fb484d0d7edd0b7c04b16cf6325af31d957eb51ed077d/google_cloud_vision-0.42.0-py2.py3-none-any.whl (435kB)\n",
            "\r\u001b[K     |▊                               | 10kB 16.0MB/s eta 0:00:01\r\u001b[K     |█▌                              | 20kB 3.3MB/s eta 0:00:01\r\u001b[K     |██▎                             | 30kB 4.8MB/s eta 0:00:01\r\u001b[K     |███                             | 40kB 3.1MB/s eta 0:00:01\r\u001b[K     |███▊                            | 51kB 3.8MB/s eta 0:00:01\r\u001b[K     |████▌                           | 61kB 4.5MB/s eta 0:00:01\r\u001b[K     |█████▎                          | 71kB 5.2MB/s eta 0:00:01\r\u001b[K     |██████                          | 81kB 5.9MB/s eta 0:00:01\r\u001b[K     |██████▉                         | 92kB 6.5MB/s eta 0:00:01\r\u001b[K     |███████▌                        | 102kB 5.0MB/s eta 0:00:01\r\u001b[K     |████████▎                       | 112kB 5.0MB/s eta 0:00:01\r\u001b[K     |█████████                       | 122kB 5.0MB/s eta 0:00:01\r\u001b[K     |█████████▉                      | 133kB 5.0MB/s eta 0:00:01\r\u001b[K     |██████████▌                     | 143kB 5.0MB/s eta 0:00:01\r\u001b[K     |███████████▎                    | 153kB 5.0MB/s eta 0:00:01\r\u001b[K     |████████████                    | 163kB 5.0MB/s eta 0:00:01\r\u001b[K     |████████████▉                   | 174kB 5.0MB/s eta 0:00:01\r\u001b[K     |█████████████▋                  | 184kB 5.0MB/s eta 0:00:01\r\u001b[K     |██████████████▎                 | 194kB 5.0MB/s eta 0:00:01\r\u001b[K     |███████████████                 | 204kB 5.0MB/s eta 0:00:01\r\u001b[K     |███████████████▉                | 215kB 5.0MB/s eta 0:00:01\r\u001b[K     |████████████████▋               | 225kB 5.0MB/s eta 0:00:01\r\u001b[K     |█████████████████▎              | 235kB 5.0MB/s eta 0:00:01\r\u001b[K     |██████████████████              | 245kB 5.0MB/s eta 0:00:01\r\u001b[K     |██████████████████▉             | 256kB 5.0MB/s eta 0:00:01\r\u001b[K     |███████████████████▋            | 266kB 5.0MB/s eta 0:00:01\r\u001b[K     |████████████████████▍           | 276kB 5.0MB/s eta 0:00:01\r\u001b[K     |█████████████████████           | 286kB 5.0MB/s eta 0:00:01\r\u001b[K     |█████████████████████▉          | 296kB 5.0MB/s eta 0:00:01\r\u001b[K     |██████████████████████▋         | 307kB 5.0MB/s eta 0:00:01\r\u001b[K     |███████████████████████▍        | 317kB 5.0MB/s eta 0:00:01\r\u001b[K     |████████████████████████        | 327kB 5.0MB/s eta 0:00:01\r\u001b[K     |████████████████████████▉       | 337kB 5.0MB/s eta 0:00:01\r\u001b[K     |█████████████████████████▋      | 348kB 5.0MB/s eta 0:00:01\r\u001b[K     |██████████████████████████▍     | 358kB 5.0MB/s eta 0:00:01\r\u001b[K     |███████████████████████████▏    | 368kB 5.0MB/s eta 0:00:01\r\u001b[K     |███████████████████████████▉    | 378kB 5.0MB/s eta 0:00:01\r\u001b[K     |████████████████████████████▋   | 389kB 5.0MB/s eta 0:00:01\r\u001b[K     |█████████████████████████████▍  | 399kB 5.0MB/s eta 0:00:01\r\u001b[K     |██████████████████████████████▏ | 409kB 5.0MB/s eta 0:00:01\r\u001b[K     |██████████████████████████████▉ | 419kB 5.0MB/s eta 0:00:01\r\u001b[K     |███████████████████████████████▋| 430kB 5.0MB/s eta 0:00:01\r\u001b[K     |████████████████████████████████| 440kB 5.0MB/s \n",
            "\u001b[?25hRequirement already satisfied: google-api-core[grpc]<2.0.0dev,>=1.14.0 in /usr/local/lib/python3.6/dist-packages (from google-cloud-vision) (1.16.0)\n",
            "Requirement already satisfied: six>=1.10.0 in /usr/local/lib/python3.6/dist-packages (from google-api-core[grpc]<2.0.0dev,>=1.14.0->google-cloud-vision) (1.12.0)\n",
            "Requirement already satisfied: requests<3.0.0dev,>=2.18.0 in /usr/local/lib/python3.6/dist-packages (from google-api-core[grpc]<2.0.0dev,>=1.14.0->google-cloud-vision) (2.21.0)\n",
            "Requirement already satisfied: googleapis-common-protos<2.0dev,>=1.6.0 in /usr/local/lib/python3.6/dist-packages (from google-api-core[grpc]<2.0.0dev,>=1.14.0->google-cloud-vision) (1.51.0)\n",
            "Requirement already satisfied: setuptools>=34.0.0 in /usr/local/lib/python3.6/dist-packages (from google-api-core[grpc]<2.0.0dev,>=1.14.0->google-cloud-vision) (45.1.0)\n",
            "Requirement already satisfied: pytz in /usr/local/lib/python3.6/dist-packages (from google-api-core[grpc]<2.0.0dev,>=1.14.0->google-cloud-vision) (2018.9)\n",
            "Requirement already satisfied: protobuf>=3.4.0 in /usr/local/lib/python3.6/dist-packages (from google-api-core[grpc]<2.0.0dev,>=1.14.0->google-cloud-vision) (3.10.0)\n",
            "Requirement already satisfied: google-auth<2.0dev,>=0.4.0 in /usr/local/lib/python3.6/dist-packages (from google-api-core[grpc]<2.0.0dev,>=1.14.0->google-cloud-vision) (1.7.2)\n",
            "Requirement already satisfied: grpcio<2.0dev,>=1.8.2; extra == \"grpc\" in /usr/local/lib/python3.6/dist-packages (from google-api-core[grpc]<2.0.0dev,>=1.14.0->google-cloud-vision) (1.27.1)\n",
            "Requirement already satisfied: urllib3<1.25,>=1.21.1 in /usr/local/lib/python3.6/dist-packages (from requests<3.0.0dev,>=2.18.0->google-api-core[grpc]<2.0.0dev,>=1.14.0->google-cloud-vision) (1.24.3)\n",
            "Requirement already satisfied: idna<2.9,>=2.5 in /usr/local/lib/python3.6/dist-packages (from requests<3.0.0dev,>=2.18.0->google-api-core[grpc]<2.0.0dev,>=1.14.0->google-cloud-vision) (2.8)\n",
            "Requirement already satisfied: chardet<3.1.0,>=3.0.2 in /usr/local/lib/python3.6/dist-packages (from requests<3.0.0dev,>=2.18.0->google-api-core[grpc]<2.0.0dev,>=1.14.0->google-cloud-vision) (3.0.4)\n",
            "Requirement already satisfied: certifi>=2017.4.17 in /usr/local/lib/python3.6/dist-packages (from requests<3.0.0dev,>=2.18.0->google-api-core[grpc]<2.0.0dev,>=1.14.0->google-cloud-vision) (2019.11.28)\n",
            "Requirement already satisfied: cachetools<3.2,>=2.0.0 in /usr/local/lib/python3.6/dist-packages (from google-auth<2.0dev,>=0.4.0->google-api-core[grpc]<2.0.0dev,>=1.14.0->google-cloud-vision) (3.1.1)\n",
            "Requirement already satisfied: pyasn1-modules>=0.2.1 in /usr/local/lib/python3.6/dist-packages (from google-auth<2.0dev,>=0.4.0->google-api-core[grpc]<2.0.0dev,>=1.14.0->google-cloud-vision) (0.2.8)\n",
            "Requirement already satisfied: rsa<4.1,>=3.1.4 in /usr/local/lib/python3.6/dist-packages (from google-auth<2.0dev,>=0.4.0->google-api-core[grpc]<2.0.0dev,>=1.14.0->google-cloud-vision) (4.0)\n",
            "Requirement already satisfied: pyasn1<0.5.0,>=0.4.6 in /usr/local/lib/python3.6/dist-packages (from pyasn1-modules>=0.2.1->google-auth<2.0dev,>=0.4.0->google-api-core[grpc]<2.0.0dev,>=1.14.0->google-cloud-vision) (0.4.8)\n",
            "Installing collected packages: google-cloud-vision\n",
            "Successfully installed google-cloud-vision-0.42.0\n"
          ],
          "name": "stdout"
        },
        {
          "output_type": "display_data",
          "data": {
            "application/vnd.colab-display-data+json": {
              "pip_warning": {
                "packages": [
                  "google"
                ]
              }
            }
          },
          "metadata": {
            "tags": []
          }
        },
        {
          "output_type": "stream",
          "text": [
            "Collecting google-cloud-automl\n",
            "\u001b[?25l  Downloading https://files.pythonhosted.org/packages/6d/83/13ec95d3689b53586f72f5e81c253eb11e43ef5219ba55b7d7495ea86324/google_cloud_automl-0.10.0-py2.py3-none-any.whl (372kB)\n",
            "\r\u001b[K     |▉                               | 10kB 16.3MB/s eta 0:00:01\r\u001b[K     |█▊                              | 20kB 3.6MB/s eta 0:00:01\r\u001b[K     |██▋                             | 30kB 4.9MB/s eta 0:00:01\r\u001b[K     |███▌                            | 40kB 3.1MB/s eta 0:00:01\r\u001b[K     |████▍                           | 51kB 3.7MB/s eta 0:00:01\r\u001b[K     |█████▎                          | 61kB 4.4MB/s eta 0:00:01\r\u001b[K     |██████▏                         | 71kB 4.5MB/s eta 0:00:01\r\u001b[K     |███████                         | 81kB 4.8MB/s eta 0:00:01\r\u001b[K     |████████                        | 92kB 5.4MB/s eta 0:00:01\r\u001b[K     |████████▉                       | 102kB 5.2MB/s eta 0:00:01\r\u001b[K     |█████████▊                      | 112kB 5.2MB/s eta 0:00:01\r\u001b[K     |██████████▋                     | 122kB 5.2MB/s eta 0:00:01\r\u001b[K     |███████████▍                    | 133kB 5.2MB/s eta 0:00:01\r\u001b[K     |████████████▎                   | 143kB 5.2MB/s eta 0:00:01\r\u001b[K     |█████████████▏                  | 153kB 5.2MB/s eta 0:00:01\r\u001b[K     |██████████████                  | 163kB 5.2MB/s eta 0:00:01\r\u001b[K     |███████████████                 | 174kB 5.2MB/s eta 0:00:01\r\u001b[K     |███████████████▉                | 184kB 5.2MB/s eta 0:00:01\r\u001b[K     |████████████████▊               | 194kB 5.2MB/s eta 0:00:01\r\u001b[K     |█████████████████▋              | 204kB 5.2MB/s eta 0:00:01\r\u001b[K     |██████████████████▌             | 215kB 5.2MB/s eta 0:00:01\r\u001b[K     |███████████████████▍            | 225kB 5.2MB/s eta 0:00:01\r\u001b[K     |████████████████████▎           | 235kB 5.2MB/s eta 0:00:01\r\u001b[K     |█████████████████████▏          | 245kB 5.2MB/s eta 0:00:01\r\u001b[K     |██████████████████████          | 256kB 5.2MB/s eta 0:00:01\r\u001b[K     |██████████████████████▉         | 266kB 5.2MB/s eta 0:00:01\r\u001b[K     |███████████████████████▊        | 276kB 5.2MB/s eta 0:00:01\r\u001b[K     |████████████████████████▋       | 286kB 5.2MB/s eta 0:00:01\r\u001b[K     |█████████████████████████▌      | 296kB 5.2MB/s eta 0:00:01\r\u001b[K     |██████████████████████████▍     | 307kB 5.2MB/s eta 0:00:01\r\u001b[K     |███████████████████████████▎    | 317kB 5.2MB/s eta 0:00:01\r\u001b[K     |████████████████████████████▏   | 327kB 5.2MB/s eta 0:00:01\r\u001b[K     |█████████████████████████████   | 337kB 5.2MB/s eta 0:00:01\r\u001b[K     |██████████████████████████████  | 348kB 5.2MB/s eta 0:00:01\r\u001b[K     |██████████████████████████████▉ | 358kB 5.2MB/s eta 0:00:01\r\u001b[K     |███████████████████████████████▊| 368kB 5.2MB/s eta 0:00:01\r\u001b[K     |████████████████████████████████| 378kB 5.2MB/s \n",
            "\u001b[?25hRequirement already satisfied: google-api-core[grpc]<2.0.0dev,>=1.14.0 in /usr/local/lib/python3.6/dist-packages (from google-cloud-automl) (1.16.0)\n",
            "Requirement already satisfied: google-auth<2.0dev,>=0.4.0 in /usr/local/lib/python3.6/dist-packages (from google-api-core[grpc]<2.0.0dev,>=1.14.0->google-cloud-automl) (1.7.2)\n",
            "Requirement already satisfied: requests<3.0.0dev,>=2.18.0 in /usr/local/lib/python3.6/dist-packages (from google-api-core[grpc]<2.0.0dev,>=1.14.0->google-cloud-automl) (2.21.0)\n",
            "Requirement already satisfied: six>=1.10.0 in /usr/local/lib/python3.6/dist-packages (from google-api-core[grpc]<2.0.0dev,>=1.14.0->google-cloud-automl) (1.12.0)\n",
            "Requirement already satisfied: pytz in /usr/local/lib/python3.6/dist-packages (from google-api-core[grpc]<2.0.0dev,>=1.14.0->google-cloud-automl) (2018.9)\n",
            "Requirement already satisfied: setuptools>=34.0.0 in /usr/local/lib/python3.6/dist-packages (from google-api-core[grpc]<2.0.0dev,>=1.14.0->google-cloud-automl) (45.1.0)\n",
            "Requirement already satisfied: protobuf>=3.4.0 in /usr/local/lib/python3.6/dist-packages (from google-api-core[grpc]<2.0.0dev,>=1.14.0->google-cloud-automl) (3.10.0)\n",
            "Requirement already satisfied: googleapis-common-protos<2.0dev,>=1.6.0 in /usr/local/lib/python3.6/dist-packages (from google-api-core[grpc]<2.0.0dev,>=1.14.0->google-cloud-automl) (1.51.0)\n",
            "Requirement already satisfied: grpcio<2.0dev,>=1.8.2; extra == \"grpc\" in /usr/local/lib/python3.6/dist-packages (from google-api-core[grpc]<2.0.0dev,>=1.14.0->google-cloud-automl) (1.27.1)\n",
            "Requirement already satisfied: pyasn1-modules>=0.2.1 in /usr/local/lib/python3.6/dist-packages (from google-auth<2.0dev,>=0.4.0->google-api-core[grpc]<2.0.0dev,>=1.14.0->google-cloud-automl) (0.2.8)\n",
            "Requirement already satisfied: rsa<4.1,>=3.1.4 in /usr/local/lib/python3.6/dist-packages (from google-auth<2.0dev,>=0.4.0->google-api-core[grpc]<2.0.0dev,>=1.14.0->google-cloud-automl) (4.0)\n",
            "Requirement already satisfied: cachetools<3.2,>=2.0.0 in /usr/local/lib/python3.6/dist-packages (from google-auth<2.0dev,>=0.4.0->google-api-core[grpc]<2.0.0dev,>=1.14.0->google-cloud-automl) (3.1.1)\n",
            "Requirement already satisfied: idna<2.9,>=2.5 in /usr/local/lib/python3.6/dist-packages (from requests<3.0.0dev,>=2.18.0->google-api-core[grpc]<2.0.0dev,>=1.14.0->google-cloud-automl) (2.8)\n",
            "Requirement already satisfied: certifi>=2017.4.17 in /usr/local/lib/python3.6/dist-packages (from requests<3.0.0dev,>=2.18.0->google-api-core[grpc]<2.0.0dev,>=1.14.0->google-cloud-automl) (2019.11.28)\n",
            "Requirement already satisfied: chardet<3.1.0,>=3.0.2 in /usr/local/lib/python3.6/dist-packages (from requests<3.0.0dev,>=2.18.0->google-api-core[grpc]<2.0.0dev,>=1.14.0->google-cloud-automl) (3.0.4)\n",
            "Requirement already satisfied: urllib3<1.25,>=1.21.1 in /usr/local/lib/python3.6/dist-packages (from requests<3.0.0dev,>=2.18.0->google-api-core[grpc]<2.0.0dev,>=1.14.0->google-cloud-automl) (1.24.3)\n",
            "Requirement already satisfied: pyasn1<0.5.0,>=0.4.6 in /usr/local/lib/python3.6/dist-packages (from pyasn1-modules>=0.2.1->google-auth<2.0dev,>=0.4.0->google-api-core[grpc]<2.0.0dev,>=1.14.0->google-cloud-automl) (0.4.8)\n",
            "Installing collected packages: google-cloud-automl\n",
            "Successfully installed google-cloud-automl-0.10.0\n"
          ],
          "name": "stdout"
        },
        {
          "output_type": "display_data",
          "data": {
            "application/vnd.colab-display-data+json": {
              "pip_warning": {
                "packages": [
                  "google"
                ]
              }
            }
          },
          "metadata": {
            "tags": []
          }
        }
      ]
    },
    {
      "cell_type": "code",
      "metadata": {
        "id": "OqBvNbdHKZvZ",
        "colab_type": "code",
        "cellView": "both",
        "colab": {}
      },
      "source": [
        "from google.cloud import automl_v1beta1\n",
        "from google.cloud.automl_v1beta1.proto import service_pb2\n",
        "from google.cloud import vision\n",
        "from google.cloud.vision import types\n",
        "from google.cloud import storage\n",
        "import pandas as pd\n",
        "import os\n",
        "import csv\n",
        "from google.colab import files\n",
        "import sys"
      ],
      "execution_count": 0,
      "outputs": []
    },
    {
      "cell_type": "markdown",
      "metadata": {
        "id": "k_Jd_nRhMK0s",
        "colab_type": "text"
      },
      "source": [
        "Upload GCP key file"
      ]
    },
    {
      "cell_type": "code",
      "metadata": {
        "id": "5vMxt08O6Jy2",
        "colab_type": "code",
        "outputId": "0fafb326-2890-4627-963e-3f3d283d3fe2",
        "colab": {
          "resources": {
            "http://localhost:8080/nbextensions/google.colab/files.js": {
              "data": "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",
              "ok": true,
              "headers": [
                [
                  "content-type",
                  "application/javascript"
                ]
              ],
              "status": 200,
              "status_text": ""
            }
          },
          "base_uri": "https://localhost:8080/",
          "height": 71
        }
      },
      "source": [
        "file_info = files.upload()\n",
        "key = next(iter(file_info))\n",
        "os.environ['GOOGLE_APPLICATION_CREDENTIALS']= key"
      ],
      "execution_count": 3,
      "outputs": [
        {
          "output_type": "display_data",
          "data": {
            "text/html": [
              "\n",
              "     <input type=\"file\" id=\"files-bd63bc1c-a74d-43c5-ae83-05deae773add\" name=\"files[]\" multiple disabled />\n",
              "     <output id=\"result-bd63bc1c-a74d-43c5-ae83-05deae773add\">\n",
              "      Upload widget is only available when the cell has been executed in the\n",
              "      current browser session. Please rerun this cell to enable.\n",
              "      </output>\n",
              "      <script src=\"/nbextensions/google.colab/files.js\"></script> "
            ],
            "text/plain": [
              "<IPython.core.display.HTML object>"
            ]
          },
          "metadata": {
            "tags": []
          }
        },
        {
          "output_type": "stream",
          "text": [
            "Saving BridgeUROPs-e2517134f7a0.json to BridgeUROPs-e2517134f7a0.json\n"
          ],
          "name": "stdout"
        }
      ]
    },
    {
      "cell_type": "markdown",
      "metadata": {
        "id": "uCQdGhTyJy2e",
        "colab_type": "text"
      },
      "source": [
        "# Classification\n",
        "\n",
        "\n",
        "\n"
      ]
    },
    {
      "cell_type": "code",
      "metadata": {
        "id": "A0RfIxBUyHnR",
        "colab_type": "code",
        "colab": {}
      },
      "source": [
        "gcs_client = storage.Client()\n",
        "\n",
        "bucket_path = 'loc-entity-tagging'\n",
        "bucket = gcs_client.get_bucket(bucket_path)\n",
        "\n",
        "test_dir_path = 'test/'\n"
      ],
      "execution_count": 0,
      "outputs": []
    },
    {
      "cell_type": "code",
      "metadata": {
        "id": "fJ_000SZu_D7",
        "colab_type": "code",
        "colab": {}
      },
      "source": [
        "# 'content' is base-64-encoded image data.\n",
        "def get_prediction(content, project_id, model_id):\n",
        "  prediction_client = automl_v1beta1.PredictionServiceClient()\n",
        "\n",
        "  name = 'projects/{}/locations/us-central1/models/{}'.format(project_id, model_id)\n",
        "  payload = {'image': {'image_bytes': content }}\n",
        "  params = {}\n",
        "  request = prediction_client.predict(name, payload, params)\n",
        "  return request  # waits till request is returned\n"
      ],
      "execution_count": 0,
      "outputs": []
    },
    {
      "cell_type": "markdown",
      "metadata": {
        "id": "s9WAcrKjn2aZ",
        "colab_type": "text"
      },
      "source": [
        "Benny Goodman photo, autographed\n",
        "<br>\n",
        "<center>\n",
        "<img src=\"https://storage.cloud.google.com/loc-entity-tagging/test/Benny%20Goodman%20photo%2C%20autographed.jpg\" width=\"700\">\n",
        "\n",
        "> Indented block\n",
        "\n",
        "\n",
        "</center>"
      ]
    },
    {
      "cell_type": "code",
      "metadata": {
        "id": "MYJtct7bnzFu",
        "colab_type": "code",
        "outputId": "d2e47c58-1f95-42ed-a190-80db1c1a0bac",
        "colab": {
          "base_uri": "https://localhost:8080/",
          "height": 34
        }
      },
      "source": [
        "doc = \"Benny Goodman photo, autographed.jpg\"\n",
        "proj = \"238074779717\"\n",
        "model = \"ICN659931277037666304\"\n",
        "\n",
        "download_blob = bucket.blob(test_dir_path + doc)\n",
        "filename = download_blob.download_to_filename(doc)\n",
        "filepath = './' + doc\n",
        "\n",
        "with open(filepath, 'rb') as ff:\n",
        "    content = ff.read()\n",
        "\n",
        "result = get_prediction(content, proj, model)\n",
        "label = result.payload[0].display_name\n",
        "\n",
        "print(label)"
      ],
      "execution_count": 6,
      "outputs": [
        {
          "output_type": "stream",
          "text": [
            "photograph\n"
          ],
          "name": "stdout"
        }
      ]
    },
    {
      "cell_type": "markdown",
      "metadata": {
        "id": "TtAs_QF8CHQQ",
        "colab_type": "text"
      },
      "source": [
        "# Print vs. Handwriting Classification"
      ]
    },
    {
      "cell_type": "code",
      "metadata": {
        "id": "TpQHmwsrCQ6m",
        "colab_type": "code",
        "colab": {}
      },
      "source": [
        "def get_text_prediction(content, project_id, model_id):\n",
        "  prediction_client = automl_v1beta1.PredictionServiceClient()\n",
        "\n",
        "  name = 'projects/{}/locations/us-central1/models/{}'.format(project_id, model_id)\n",
        "  payload = {'image': {'image_bytes': content }}\n",
        "  params = {}\n",
        "  request = prediction_client.predict(name, payload, params)\n",
        "  return request  # waits till request is returned"
      ],
      "execution_count": 0,
      "outputs": []
    },
    {
      "cell_type": "code",
      "metadata": {
        "id": "s_G8EXYiCfWf",
        "colab_type": "code",
        "outputId": "79c62683-5c99-49ce-a209-a9ba80886ac4",
        "colab": {
          "base_uri": "https://localhost:8080/",
          "height": 34
        }
      },
      "source": [
        "doc = \"Benny Goodman photo, autographed.jpg\"\n",
        "proj = \"238074779717\"\n",
        "model = \"ICN8832029460250230784\"\n",
        "\n",
        "download_blob = bucket.blob(test_dir_path + doc)\n",
        "filename = download_blob.download_to_filename(doc)\n",
        "filepath = './' + doc\n",
        "\n",
        "with open(filepath, 'rb') as ff:\n",
        "    content = ff.read()\n",
        "\n",
        "result = get_text_prediction(content, proj, model)\n",
        "writing_label = result.payload[0].display_name\n",
        "\n",
        "print(writing_label)"
      ],
      "execution_count": 8,
      "outputs": [
        {
          "output_type": "stream",
          "text": [
            "None_of_the_above\n"
          ],
          "name": "stdout"
        }
      ]
    },
    {
      "cell_type": "markdown",
      "metadata": {
        "id": "3YSnO2wTL58J",
        "colab_type": "text"
      },
      "source": [
        "# Image to Text"
      ]
    },
    {
      "cell_type": "code",
      "metadata": {
        "id": "jmw779yhYS_L",
        "colab_type": "code",
        "colab": {}
      },
      "source": [
        "def detect_text_uri(uri):\n",
        "    \"\"\"Detects text in the file located in Google Cloud Storage or on the Web.\n",
        "    \"\"\"\n",
        "    from google.cloud import vision\n",
        "    client = vision.ImageAnnotatorClient()\n",
        "    image = vision.types.Image()\n",
        "    image.source.image_uri = uri\n",
        "\n",
        "    response = client.text_detection(image=image)\n",
        "    texts = response.text_annotations\n",
        "    print('Texts:')\n",
        "    text = texts[0].description.replace(\" . \", \" \").replace(\" , \", \" \").replace(\"\\n\", \" \").replace(\"(\", \"\").replace(\")\", \"\")\n",
        "    \n",
        "    \n",
        "\n",
        "        # vertices = (['({},{})'.format(vertex.x, vertex.y)\n",
        "        #             for vertex in text.bounding_poly.vertices])\n",
        "\n",
        "        # print('bounds: {}'.format(','.join(vertices)))\n",
        "\n",
        "    if response.error.message:\n",
        "        raise Exception(\n",
        "            '{}\\nFor more info on error messages, check: '\n",
        "            'https://cloud.google.com/apis/design/errors'.format(\n",
        "                response.error.message))\n",
        "    return text"
      ],
      "execution_count": 0,
      "outputs": []
    },
    {
      "cell_type": "code",
      "metadata": {
        "id": "g6pRH1-Vu4OZ",
        "colab_type": "code",
        "colab": {}
      },
      "source": [
        "def detect_document_uri(uri):\n",
        "    \"\"\"Detects document features in the file located in Google Cloud\n",
        "    Storage.\"\"\"\n",
        "    \n",
        "    client = vision.ImageAnnotatorClient()\n",
        "    image = vision.types.Image()\n",
        "    image.source.image_uri = uri\n",
        "\n",
        "    response = client.document_text_detection(image=image)\n",
        "    words = ''\n",
        "    final = ()\n",
        "    for page in response.full_text_annotation.pages:\n",
        "        for block in page.blocks:\n",
        "            #print('\\nBlock confidence: {}\\n'.format(block.confidence))\n",
        "\n",
        "            for paragraph in block.paragraphs:\n",
        "                #print('Paragraph confidence: {}'.format(\n",
        "                    #paragraph.confidence))\n",
        "\n",
        "                for word in paragraph.words:\n",
        "                    word_text = ''.join([\n",
        "                        symbol.text for symbol in word.symbols\n",
        "                    ])\n",
        "                    #print('Word text: {} (confidence: {})'.format(\n",
        "                        #word_text, word.confidence))\n",
        "\n",
        "                    for symbol in word.symbols:\n",
        "                        #print('\\tSymbol: {} (confidence: {})'.format(\n",
        "                            #symbol.text, symbol.confidence))\n",
        "                        words += symbol.text\n",
        "                    words += ' '\n",
        "\n",
        "    words = words.replace(\" . \", \" \").replace(\" , \", \" \")\n",
        "\n",
        "    return words\n"
      ],
      "execution_count": 0,
      "outputs": []
    },
    {
      "cell_type": "code",
      "metadata": {
        "id": "GYy3V-e2t1dR",
        "colab_type": "code",
        "colab": {}
      },
      "source": [
        "date = (\"Jan\", \"Feb\", \"Mar\", \"Apr\", \"May\", \"Jun\", \"Jul\", \"Aug\", \"Sept\", \"Oct\", \"Nov\", \"Dec\", \"January\", \"February\", \"March\", \"April\", \"May\", \"Jun\", \"July\", \"August\", \"September\", \"October\", \"November\", \"December\")\n",
        "uppercase = \"ABCDEFGHIJKLMNOPQRSTUVWXYZ\"\n",
        "numbers = \"1234567890\""
      ],
      "execution_count": 0,
      "outputs": []
    },
    {
      "cell_type": "code",
      "metadata": {
        "id": "ShM92Py-87BY",
        "colab_type": "code",
        "colab": {}
      },
      "source": [
        "def getMetaData(x):\n",
        "\taddress = \"\"\n",
        "\tx = x.split(\" \")\n",
        "\tfor i in x:\n",
        "\t\tif i in date:\n",
        "\t\t\tplace = x.index(i)\n",
        "\t\t\tprint(\"The date of this document is: \" + x[place]+ \" \" + x[place+1] + \" \" + x[place+2])\n",
        "\n",
        "\t\t\tbreak\n",
        "\tpeople = \"\"\n",
        "\tto = ''\n",
        "\tfor i in range(len(x)):\n",
        "\t\tif x[i] == \"Mr\" or x[i] == \"mr\":\n",
        "\t\t\tif x[i+2][0] in uppercase:\n",
        "\t\t\t\tpeople += (x[i+1] + \" \" + x[i+2] + \", \")\n",
        "\t\tif x[i] == \"Deri\" or x[i] == \"Dear\":\n",
        "\t\t\tif x[i+2][0] in uppercase:\n",
        "\t\t\t\tto += (x[i+1] + \" \" + x[i+2] + \", \")\n",
        "\t\t\telse:\n",
        "\t\t\t\tto += x[i+1] + \", \"\n",
        "\tfor i in range(len(x)):\n",
        "\t\tif x[i] == \"Street\" or x[i] == \"street\" or x[i] == \"Road\" or x[i] == \"road\":\n",
        "\t\t\tif x[i-3][0] in numbers:\n",
        "\t\t\t\taddress += x[i-3] + \" \" + x[i-2] + \" \" + x[i-1] + \" \" + x[i]\n",
        "\t\t\telse:\n",
        "\t\t\t\taddress += x[i-2] + \" \" + x[i-1] + \" \" + x[i]\n",
        "\t\t\tbreak\n",
        "\n",
        "\tif people != \"\" and people[len(people)-2] == \",\":\n",
        "\t\tpeople = people[:len(people)-2]\n",
        "\tif to != \"\" and to[len(to)-2] == \",\":\n",
        "\t\tto = to[:len(to)-2]\n",
        "\tif to != \"\":\n",
        "\t\tprint(\"This letter was sent to \" + to)\n",
        "\tif people != \"\":\n",
        "\t\tprint(\"People involved in this correspondence: \" + people)\n",
        "\tif address != \"\":\n",
        "\t\tprint(\"Address: \" + address)"
      ],
      "execution_count": 0,
      "outputs": []
    },
    {
      "cell_type": "code",
      "metadata": {
        "id": "aKrdA-INZokA",
        "colab_type": "code",
        "colab": {}
      },
      "source": [
        "uri = \"gs://loc-entity-tagging/test/\" + doc"
      ],
      "execution_count": 0,
      "outputs": []
    },
    {
      "cell_type": "markdown",
      "metadata": {
        "id": "G3Efk27c9rBw",
        "colab_type": "text"
      },
      "source": [
        "Composers Birthday Party announcement\n",
        "<br>\n",
        "<center>\n",
        "<img src=\"https://storage.cloud.google.com/loc-entity-tagging/test/Composers%20Birthday%20Party%20announcement.jpg\" width=\"700\">\n"
      ]
    },
    {
      "cell_type": "code",
      "metadata": {
        "id": "l4EHqLEAYY-n",
        "colab_type": "code",
        "colab": {
          "base_uri": "https://localhost:8080/",
          "height": 34
        },
        "outputId": "a6008b2b-8d9b-4d3d-ab06-f7e94fc4f977"
      },
      "source": [
        "if (writing_label == \"print\"):\n",
        "  x = detect_text_uri(uri)\n",
        "elif(writing_label == \"handriting\"):\n",
        "  x = detect_document_uri(uri)\n",
        "else:\n",
        "  x = None\n",
        "  print(\"metatdata tagging not neccessary, this is an image\")\n"
      ],
      "execution_count": 13,
      "outputs": [
        {
          "output_type": "stream",
          "text": [
            "metatdata tagging not neccessary, this is an image\n"
          ],
          "name": "stdout"
        }
      ]
    },
    {
      "cell_type": "code",
      "metadata": {
        "id": "CecPQS619Fgx",
        "colab_type": "code",
        "colab": {}
      },
      "source": [
        "if x == None:\n",
        "  pass\n",
        "else:\n",
        "  y = getMetaData(x)"
      ],
      "execution_count": 0,
      "outputs": []
    },
    {
      "cell_type": "markdown",
      "metadata": {
        "id": "tlAPpoOd-YUa",
        "colab_type": "text"
      },
      "source": [
        "George Avakian's letter to Keith Jarrett's draft board\n",
        "\n",
        "<br>\n",
        "<center>\n",
        "<img src=\"https://storage.cloud.google.com/loc-entity-tagging/test/George%20Avakian's%20letter%20to%20Keith%20Jarrett's%20draft%20board.jpg\" width=\"700\">"
      ]
    },
    {
      "cell_type": "code",
      "metadata": {
        "id": "GwPrPN4i-HBY",
        "colab_type": "code",
        "outputId": "02eda3e8-f912-41c2-a57c-4b66582e7a0a",
        "colab": {
          "base_uri": "https://localhost:8080/",
          "height": 68
        }
      },
      "source": [
        "x=(detect_document_uri(\"gs://loc-entity-tagging/test/George Avakian's letter to Keith Jarrett's draft board.jpg\"))\n",
        "y = getMetaData(x)"
      ],
      "execution_count": 0,
      "outputs": [
        {
          "output_type": "stream",
          "text": [
            "The date of this document is: May 4 1968\n",
            "People involved in this correspondence: Keith Jarrett\n",
            "Address: 118 North 9th Street\n"
          ],
          "name": "stdout"
        }
      ]
    },
    {
      "cell_type": "markdown",
      "metadata": {
        "id": "Ml11TwrG-ul0",
        "colab_type": "text"
      },
      "source": [
        "From Avakian to Jim Conkling at Columbia Records\n",
        "\n",
        "<br>\n",
        "<center>\n",
        "<img src=\"https://storage.cloud.google.com/loc-entity-tagging/test/Letter from Avakian to Jim Conkling at Columbia Records.jpg\" width=\"700\">"
      ]
    },
    {
      "cell_type": "code",
      "metadata": {
        "id": "iZ2XJFzx-eLf",
        "colab_type": "code",
        "outputId": "41c08d31-0013-4351-c666-ee1979291489",
        "colab": {
          "base_uri": "https://localhost:8080/",
          "height": 51
        }
      },
      "source": [
        "x=(detect_document_uri(\"gs://loc-entity-tagging/test/Letter from Avakian to Jim Conkling at Columbia Records.jpg\"))\n",
        "y = getMetaData(x)"
      ],
      "execution_count": 0,
      "outputs": [
        {
          "output_type": "stream",
          "text": [
            "The date of this document is: Dec 2 1955\n",
            "This letter was sent to Jim\n"
          ],
          "name": "stdout"
        }
      ]
    },
    {
      "cell_type": "markdown",
      "metadata": {
        "id": "SknUMX_7-8ub",
        "colab_type": "text"
      },
      "source": [
        "Letter from George Avakian to Joe Glaser\n",
        "\n",
        "<br>\n",
        "<center>\n",
        "<img src=\"https://storage.cloud.google.com/loc-entity-tagging/test/Letter%20from%20George%20Avakian%20to%20Joe%20Glaser.jpg\" width=\"700\">"
      ]
    },
    {
      "cell_type": "code",
      "metadata": {
        "id": "jq_vPDII-1fg",
        "colab_type": "code",
        "outputId": "eafa5988-21e9-405a-f7e5-eb8b57300acd",
        "colab": {
          "base_uri": "https://localhost:8080/",
          "height": 51
        }
      },
      "source": [
        "x =(detect_document_uri(\"gs://loc-entity-tagging/test/Letter from George Avakian to Joe Glaser.jpg\"))\n",
        "y = getMetaData(x)"
      ],
      "execution_count": 0,
      "outputs": [
        {
          "output_type": "stream",
          "text": [
            "The date of this document is: April 10 1965\n",
            "This letter was sent to Joe\n"
          ],
          "name": "stdout"
        }
      ]
    }
  ]
}